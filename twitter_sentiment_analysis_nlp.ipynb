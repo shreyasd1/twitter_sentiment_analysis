{
  "nbformat": 4,
  "nbformat_minor": 0,
  "metadata": {
    "colab": {
      "name": "twitter_sentiment_analysis_nlp.ipynb",
      "provenance": [],
      "authorship_tag": "ABX9TyPIcfF8jgBFCp/e4jcv/0G3",
      "include_colab_link": true
    },
    "kernelspec": {
      "name": "python3",
      "display_name": "Python 3"
    },
    "language_info": {
      "name": "python"
    }
  },
  "cells": [
    {
      "cell_type": "markdown",
      "metadata": {
        "id": "view-in-github",
        "colab_type": "text"
      },
      "source": [
        "<a href=\"https://colab.research.google.com/github/shreyasd1/twitter_sentiment_analysis/blob/main/twitter_sentiment_analysis_nlp.ipynb\" target=\"_parent\"><img src=\"https://colab.research.google.com/assets/colab-badge.svg\" alt=\"Open In Colab\"/></a>"
      ]
    },
    {
      "cell_type": "markdown",
      "metadata": {
        "id": "bWJCNoWMq-gi"
      },
      "source": [
        "**importing libraries**"
      ]
    },
    {
      "cell_type": "code",
      "metadata": {
        "id": "aUhl57vNqwuc"
      },
      "source": [
        "import numpy as np\n",
        "import pandas as pd\n",
        "import matplotlib.pyplot as plt\n",
        "import tweepy as tw\n",
        "from wordcloud import WordCloud\n",
        "import re\n",
        "from textblob import TextBlob\n",
        "plt.style.use('fivethirtyeight') "
      ],
      "execution_count": null,
      "outputs": []
    },
    {
      "cell_type": "markdown",
      "metadata": {
        "id": "3iO4UIqorCuQ"
      },
      "source": [
        "**Twitter Api auth**"
      ]
    },
    {
      "cell_type": "code",
      "metadata": {
        "id": "_2IGfiKzrISY"
      },
      "source": [
        "consumer_key= ''\n",
        "consumer_secret= ''\n",
        "access_token= ''\n",
        "access_token_secret= ''"
      ],
      "execution_count": null,
      "outputs": []
    },
    {
      "cell_type": "code",
      "metadata": {
        "id": "ATCJSC4NrK2x"
      },
      "source": [
        "auth = tw.OAuthHandler(consumer_key, consumer_secret)\n",
        "auth.set_access_token(access_token, access_token_secret)\n",
        "api = tw.API(auth, wait_on_rate_limit=True)"
      ],
      "execution_count": null,
      "outputs": []
    },
    {
      "cell_type": "markdown",
      "metadata": {
        "id": "9fj4mSP6rpDX"
      },
      "source": [
        "**extracting tweets**"
      ]
    },
    {
      "cell_type": "code",
      "metadata": {
        "colab": {
          "base_uri": "https://localhost:8080/"
        },
        "id": "iBzNk_MMrtAL",
        "outputId": "460e8255-e5b3-4b9c-8a6d-3e0e61c7f2ab"
      },
      "source": [
        "tweets = api.user_timeline(screen_name = 'BillGates', count = 200, lang = 'en', tweet_mode = 'extended')\n",
        "i = 1\n",
        "for tweet in tweets[0:5]:\n",
        "  print(str(i) + ')' + tweet.full_text + '\\n')\n",
        "  i += 1"
      ],
      "execution_count": null,
      "outputs": [
        {
          "output_type": "stream",
          "name": "stdout",
          "text": [
            "1)Africa's success against wild polio last year is one of the most inspiring stories in global health. I’m optimistic that, with the commitment and collaboration that achieved that goal, countries in the region can beat all forms of the virus and #EndPolio https://t.co/lpJsrhAQcf\n",
            "\n",
            "2)None of us would be where we are today without the incredible teachers who helped shape our perspectives. Brooke Brown is an extraordinary teacher who has helped her students adapt to extraordinary times. https://t.co/btiQikTyVX\n",
            "\n",
            "3).@GAP_Foundation’s Bio-Hermes Study is the first to compare results of blood and digital biomarker tests with imaging and traditional cognitive tests. This could help identify Alzheimer’s earlier and detect progression of the disease, to help us get closer to a cure. https://t.co/9xUQ0ZldSI\n",
            "\n",
            "4)I recently sat down with the extraordinary Brooke Brown, Washington State’s 2021 Teacher of the Year. It was a pleasure to meet with her and take part in one of her favorite lessons: https://t.co/TAwysEihyQ https://t.co/rlB1iJjogC\n",
            "\n",
            "5)Happy Birthday, Warren! You’ve been a true friend and an invaluable source of advice over the years, and I’m so lucky to know you. It’s an honor to work at the foundation doing my best to turn your generosity into lives saved and improved. Here’s to many more birthdays! https://t.co/ZaCGW5KCWm\n",
            "\n"
          ]
        }
      ]
    },
    {
      "cell_type": "code",
      "metadata": {
        "colab": {
          "base_uri": "https://localhost:8080/"
        },
        "id": "OvZD8-Hnr7HR",
        "outputId": "be4be449-3cd2-4977-be48-769235146651"
      },
      "source": [
        "df = pd.DataFrame([tweet.full_text for tweet in tweets], columns= ['tweet'])\n",
        "df.insert(1, \"retweets\", [tweet.retweet_count for tweet in tweets], True)\n",
        "df.insert(2, \"likes\", [tweet.favorite_count for tweet in tweets], True)\n",
        "df.shape"
      ],
      "execution_count": null,
      "outputs": [
        {
          "output_type": "execute_result",
          "data": {
            "text/plain": [
              "(200, 3)"
            ]
          },
          "metadata": {},
          "execution_count": 25
        }
      ]
    },
    {
      "cell_type": "markdown",
      "metadata": {
        "id": "8Q2DdjgmtsAX"
      },
      "source": [
        "**applying stemming and removing stopwords**"
      ]
    },
    {
      "cell_type": "code",
      "metadata": {
        "colab": {
          "base_uri": "https://localhost:8080/"
        },
        "id": "ycrdc5brsVNZ",
        "outputId": "bde0869b-f72a-49ba-c621-0cc2993accbf"
      },
      "source": [
        "import re\n",
        "import nltk\n",
        "nltk.download('stopwords')\n",
        "from nltk.corpus import stopwords\n",
        "from nltk.stem.porter import PorterStemmer           # stem means converting liked, liking etc to like similarly \n",
        "corpus = []\n",
        "for i in range(0, 200):\n",
        "  tweet = re.sub(r'@[A-Za-z0-9]+', '', df['tweet'][i]) # removing mentions\n",
        "  tweet = re.sub(r'#', '', df['tweet'][i]) # removing Hashtags\n",
        "  tweet = re.sub(r'RT[\\s]+', '', df['tweet'][i]) # removing RT\n",
        "  tweet = re.sub(r'https?:\\/\\/\\S+', '', df['tweet'][i])\n",
        "  tweet = tweet.lower()                                   # lowercase all the letters\n",
        "  tweet = tweet.split()                                   # split tweet into different words\n",
        "  ps = PorterStemmer()                                      # applying stemming\n",
        "  all_stopwords = stopwords.words('english')\n",
        "  all_stopwords.remove('not')\n",
        "  tweet = [ps.stem(word) for word in tweet if not word in set(all_stopwords)] # applied stemming and removed stopwords\n",
        "  tweet = ' '.join(tweet)                                 # join words with space between them\n",
        "  corpus.append(tweet)\n",
        "print(corpus)"
      ],
      "execution_count": null,
      "outputs": [
        {
          "output_type": "stream",
          "name": "stdout",
          "text": [
            "[nltk_data] Downloading package stopwords to /root/nltk_data...\n",
            "[nltk_data]   Package stopwords is already up-to-date!\n",
            "[\"africa' success wild polio last year one inspir stori global health. i’m optimist that, commit collabor achiev goal, countri region beat form viru #endpolio\", 'none us would today without incred teacher help shape perspectives. brook brown extraordinari teacher help student adapt extraordinari times.', '.@gap_foundation’ bio-herm studi first compar result blood digit biomark test imag tradit cognit tests. could help identifi alzheimer’ earlier detect progress disease, help us get closer cure.', 'recent sat extraordinari brook brown, washington state’ 2021 teacher year. pleasur meet take part one favorit lessons:', 'happi birthday, warren! you’v true friend invalu sourc advic years, i’m lucki know you. it’ honor work foundat best turn generos live save improved. here’ mani birthdays!', 'invest malaria program help build stronger health system not bring end malaria also protect us next pandemic. here’ how: #mosquitoweek', 'congratulations, india, reach tremend milestone. collect effort government, r&amp;d community, vaccin manufacturers, million health worker made feat possible. @pmoindia @mohfw_india', 'covid-19 pandem remind us erad malaria essential. mani build block need fight malaria prevent next pandem same. #mosquitoweek', 'mosquito deadliest anim humans, @wmpglobal scientist discov transform one kind mosquito surprisingli power ally: #mosquitoweek🦟', 'don’t think @ronnychieng’ innov readi bring market. luckily, brilliant scientist engin around world develop hundr excit solut prevent ill death:', 'applaud david vélez mariel reyes’ pledg dedic major wealth creat opportun vulner latin american children young adults:', 'thank @donorschoose, 40,255 donat support student teacher across country.', 'collaboration’ impact made possibl invest bipartisan infrastructur bill, unleash billion privat capit clean energi project throughout u.s. pass law. thank @secgranholm partnership.', 'avoid climat disast requir new, clean industri revolution, time wait. work togeth not send us viabl path net zero, creat long-term job commun across country.', \"i'm incred excit new collabor @breakthrough energi catalyst @energi acceler adopt next-gener clean technolog build net-zero economy:\", 'i’m partner @donorschoos make sure teacher access everyth need get readi new school year. i’ll give donat extra 50% boost today give classroom project suppli request.', 'i’m optimist work @breakthrough invest companies, support innovators, advoc better policies, lower cost climat tech. join us.', 'reach zero take complet transform make everyth – technolog product creat public polici way use market acceler change. need new industri revolut power clean technology.', 'everi climat action take must toward goal reach zero. mean rapidli deploy technolog today reduc emiss invest immedi solut still need get world zero.', 'avoid disast requir courage, ambition, partnership among leader everi sector around globe. report make clear, region spare climat change. take us meet challenge.', 'today’ unit nation climat report urgent call action world: must reach net-zero emiss 2050 avoid climat disaster.', 'alzheimer’ relat dementia impact far mani famili around world—includ own. new fund @theaddf help @edonin acceler data collect share enabl earli detect treatment.', 'today’ student power creat better futur people, teacher help build framework understand world. thank bryan stevenson join @oerproject confer social studi week.', 'i’m deepli sadden hear tachi’ passing. love work learn lot him. passion save live make world fairer place inspiring, match incred intellect. miss him.', 'vaclav smil’ book amazing. latest give framework think humanity:', 'enjoy join educ around world @oerproject confer social studi discuss teach practic chang last year half. i’m inspir resili dedic students:', 'took seneg 15 year cut childhood death half. commun health worker success vaccin campaign play key role success. read @exemplarshealth see lesson seneg appli elsewhere.', 'french drank impress amount wine 1926, consumpt third back then. why? love book forc think stori behind seemingli nich statistic.', 'favorit author’ new book might best one yet. chapter cover one 71 fact world help understand histori tie together. unabashedli recommend anyon love learning.', 'foundat work address massiv problem 10 years—here’ one incred reinvent toilet design could help:', 'ever heard toilet compar espresso machine? that’ dr. shannon yee describ toilet team developed.', 'much world popul still lack access toilet safe remov wast home? find answer here:', 'rt @gatesfoundation: “we closer ever build world safe sanit servic basic human right enjoy everyone,…', 'map @ourworldindata show progress we’v made–but also highlight much work left do.', 'covid pandem power remind urgent work need contain treat deadli pathogens. i’m optimist progress made anoth crisis: safe sanitation:', 'good sport, jimmy. pro tip...nev choos glass “#2” poop-wat challenge:', 'rt @anitazaidi: broader geograph distribut vaccin manufactur capacity—and infrastructur support it—wil critic to…', 'gate foundat provid additional, flexibl fund @africacdc pandem respons efforts, assist global commun urgent need fill gaps.', 'years, i’v share stage jar human feces, smell pit latrin odor, drunk water made poop (and convinc @jimmyfallon drink too). worth it? bet. here’ why:', 'rt @msuzman: take one step closer malaria-fre world excit new project seek develop mrna-bas malaria vac…', 'i’v rewatch favorit movies. add favorit list @likewise.', 'get earli start weekend reading: articl good job explain immun may happen covid-19 future.', 'height u.s. polio epidemic, iron lung one greatest tool use fight polio. today, it’ iron thousand worker support commit finish job. #endpolio', 'rt @un: let us renew determin build strong, sustain inclus recoveri pandemic, take decis action…', 'foundat join polio fight almost 15 year ago. time, cannot think import moment right now.', 'look forward work @eu_commiss import goals. europ critic partner creat net-zero futur ensur healthi equit world all.', 'rt @eib: we: 💨 boost #greentech growth? 🔽 lower costs? \\U0001fa99 help commercialis #sustain project faster? presid hoyer met with…', 'reach net-zero emiss 2050 mean transform entir physic economi acceler innov unpreced pace. @breakthrough energi catalyst jumpstart process.', 'rt @gatesfoundation: support polio erad not help wipe disease, prepar countri futur health t…', 'greatest opportun innov human history:', 'rt @breakthrough: catalyst financ foundat clean economi four critic technologies. areas, catalyst a…', 'student inspir work. ambit make optimist futur health care (and world).', 'i’m excit @breakthrough energi catalyst think help make clean-energi innov avail afford everyone.', 'covid-19 highlight digit tool save lives. i’m encourag @exemplarshealth research highlight technolog nigeria, sri lanka, burkina faso, uganda, south africa, vietnam scale detect respond pandemics.', \"expand commit foundat acceler mission fight poverty, disease, inequ around world. i'm grate foundation' leadership team, employees, partner dedic make world healthier just.\", 'rt @usaid: nearli six decad medic profession, dr. louisa samonsia thought seen all. then, covid-19 hit. learn h…', 'stop alzheimer’ requir eye problem. addi @alzdata recent host 1st data challenge. inspir see 1,200+ peopl 65+ countries/region join fight.', 'it’ realli encourag see results. dengu fever infect hundr million peopl year caus debilit disease. incred techniqu could also effect stop spread virus like zika chikungunya.', \"import commit build @gatesfoundation' effort support partner work creat equal world.\", 'truli grate wisdom leadership, endur friendship. warren continu inspir foundat work fight poverti help million peopl live healthier lives.', 'alway deep sens account warren, pay close attent data track progress identifi area better. valu warren’ gift goe beyond anyth measured.', 'pick nose? read excerpt matt richtel’ fascin book immun system blog find answer:', 'journalist @elizkolbert creat fascin beat cover humanity’ impact natur attempt control it. latest book good remind need watch unforeseen effect actions.', \"persist countless rotarian give hope achiev polio-fre world. close #rotary21 convention, i'd like thank @rotari continu partnership #endpolio.\", \"i'm almost alway interest book american presidents, especi love promis land. it’ fascin look it’ like steer countri challeng times.\", 'book gave deeper, nuanc appreci system core humanity’ fight covid-19 everyth foundation’ global health program tri do.', 'you’r look good book read summer, favorites.', \"@g7’ commit share 870m covid-19 vaccin dose next year welcom news - time not side. vaccin must deliv help control pandem everywher not disrupt progress we'v made.\", 'rt @globalfund: honor 20 year @globalfund impact, see hero around world came together, refus accept statu…', 'rt @rajpanjabi: physician, i’v seen mani colleagu make ultim sacrific frontlines. 115,000 health care w…', 'polio tool infrastructur also critic combat public health emergencies, like covid-19. import ever donor countri commit new gpei strategi #endpolio continu improv health all.', 'young leader make optimist brighter day ahead america’ student teachers.', 'odds, @mohamedbailorb8 becam doctor help countri recov civil war, ebola, covid-19. doctor’ life stori almost remark work.', 'import step u.s. clean energi transition. i’m excit see @terrapow work @pacificorp, @governorgordon, @energi bring project life workforc wyoming.', 'hero like dr. moham barri reason start foundat 20 year ago melinda remain commit work. mohamed’ stori truli inspiring, can’t wait see team accomplish next.', 'rt @msuzman: promis news @gavi #covax amc summit exceed today’ fundrais target. mean peopl lo…', 'partnership @breakthrough energi @eu_commiss creat job around world, build sustain global industries, expand opportun billions: thank @eib well support.', 'pandem exacerb exist racial health inequ unit states. health equiti tracker new tool bring visibl dispar u.s. medicine.', 'avoid climat disast possibl govern act today. @iea’ net zero 2050 report provid roadmap achiev critic goal.', 'rt @globalfund: stronger collabor help countri recov impact #covid19 progress toward health-rel @globalgo…', 'rt @gatesfoundation: ceo @msuzman says, barrier stand way equit access vaccines. support a…', '', 'rt @who: @actaccelerator, unpreced global allianc develop &amp; deliv tests, treatment &amp; vaccin 🌐 need fight #…', 'honor speak today’ #leadersclimatesummit three thing need avoid climat disaster.', 'ambiti short-term goal like critic move closer net-zero future. rapidli scale solut have, must also invest innov reach ultim goals. thank @potu leadership.', 'it’ encourag see @potu biden @climateenvoy kerri re-establish america’ lead role climat change. look forward join leader around world talk import challeng need overcom avoid climat disaster.', \"yesterday' verdict step right direction. one court rule alon not bring end injustic inequ black peopl experi daily. hope continu make real progress this.\", '“time” poetic portrait famili love support despit difficult circumstances. can’t recommend highli enough.', '“time” win oscar year, first documentari direct black woman so. garrett bradley’ talent make worthi milestone. one intim movi ever seen. #itstim', 'commun color hit hard covid-19. one reason part medic system often fail black brown peopl it’ not design mind. dr. stephaun wallac want chang that.', 'rt @gavi: february, ghana becam first african countri receiv vaccin #covax. meet one nurs spearhead v…', 'get net-zero emiss global 2050, leader around world must work together. it’ encourag see governments, busi leaders, financi institut commit success cop26 glasgow later year.', 'dr. stephaun wallac (@imstephaunelite) spent last year help make covid-19 vaccin work everybody. stephaun colleagu @fredhutch work reach peopl usual left behind.', 'amount cement china consum stagger statist remind much emiss grown low- middle-incom countries. (minecraft concret doesn’t count, though server farm respons lot emissions.)', 'cement respons 6% carbon emiss globally. get net-zero 2050, need innov decarbon material. discuss approach make low-emiss cement climat book:', 'instal concrete? check answer:', 'best way prevent new variant emerg stop transmiss viru altogether:', \"encourag see innov clean energi invest forefront @potus' #americanjobsplan. build market new energi technolog good job today build economi need avoid climat disaster.\", 'five thing know want understand variant (and aren’t) complic pandemic.', 'rt @ifpri: 💡 #climateadapt #genderequality, discov @cgiar’ 50 year innov chang world 🌎 🎉:', 'technolog transform need address climat chang creat good, safe job build equitable, prosper economy. make happen, need think big:', 'great time answer question new book, climat change, covid-19 @reddit last week. here’ recap conversation.', 'rt @who: #worldtbday even battl #covid19, must not eas fight #tuberculosis, remain 🌎🌍🌏’ deadlie…', 'i’m answer question @reddit:', 'video, answer realli good questions, includ one two realli import numbers. come ask question @reddit 11:15:', 'finish pancak morning, come ask anyth @reddit 11:15 pacif time:', 'it’ deepli unfair peopl contribut least climat chang suffer worst effects:', 'rt @unicef: past week health worker ethiopia 🇪🇹, nigeria 🇳🇬, sudan 🇸🇩 philippin 🇵🇭 vaccin covi…', \"name book “how avoid climat disaster,” not “how stop climat change,” climat alreadi changing—and one hurt climat chang world’ poorest people. here' help adapt.\", 'congratul @andrewsteerwri import role. i’m excit see earth fund achieve. avoid climat disast go take us, i’m grate @jeffbezos’ leadership partnership.', 'thank @salkhanacademi great convers climat chang thank @bookpeopl @bluewillowbook host event.', 'decades, australian research ruth bishop led global effort identifi combat rotavirus. life remind import scientif research uncov unknown pathogen power vaccin prevent suffer save lives.', 'rt @globalfund: speak villages, riverbank rural clinics, frontlin health worker malaria volunt share stori what…', 'virologist ruth bishop pioneer research led discoveri rotavirus. legaci continu role model research million children’ live save heroic work: #iwd2021', 'rt @anitazaidi: intern women’ day, join celebr inspir women made #covid19 vaccin possible. know…', 'thank @barackobama kind words. leadership 2015 pari climat confer help prove global cooper climat possibl give hope reach goal zero emissions.', '@edfact @breakthrough thank partnership, @edfaction, share us avoid climat disaster.', 'rt @wkamaubell: black folk question covid-19 vaccine. sat w/ black healthcar worker &amp; answer questions.…', 'move green economi biggest challeng world ever faced. i’m optimist it, need make sure benefit everyone—includ worker commun depend fossil fuel need get rid of.', 'can’t avoid climat disast without corpor leader make courag decis now. hope work @vwgroup build market clean technolog world needs. thank kind words, herbert.', 'deliv vaccin need most, matter live much money have, way end pandem begin recovery. import milestone.', '@eu_h2020 @eib @breakthrough @bloombiorenewa1 get net zero, need innov replac fossil fuel everyday product like plastics. @bloombiorenewa1 one mani compani lead import work.', \"we'r fortun energi secretari who' focus creat high-qual job build clean energi economy. look forward work @secgranholm clean tech innov deployment.\", 'recent extrem weather event stark remind we’r alreadi see effect climat chang home around world. type observ system help scientist monitor predict futur weather events.', 'thank @kwelkernbc @jccatlanta great convers avoid climat disaster.', 'i’m look forward join @andrewrsorkin talk climat change, foundation’ work respons pandemic, more.', \"it’ encourag @climateenvoy john kerri repres u.s. world. we'v rejoin pari climat agreement, go take ambiti action u.s. leader around globe avoid climat disaster.\", 'sever way individu help move us closer zero-carbon future. few:', 'thank @judywoodruff @newshour show talk climat chang covid-19 – two urgent global issu need global collaboration.', '@colbertlateshow @gatesfound alway fun talk @stephenathome. thank invit talk climat chang new book.', 'rt @melindagates: i’m grate new commit eu, germany, canada, japan, u.s. help make safe effect covid-…', 'i’m inspir @doncheadle’ activ humanitarian work. thank @lawacthev @writersblocla host discuss climat chang everyon help.', '@smh thank @gregcallaghan1 talk challeng need act now.', 'meaning action busi leader requir courag take risk mani compani use taking.', 'thank @andersoncooper, @seaartslectures, everyon join virtual convers climat change. great much support hometown import work.', 'great see import step unit state resum global leadership climat change. look forward work @potu congress plan ensur reach net zero 2050.', 'thank @streickercent host launch virtual book tour. great hear mani thought question help avoid climat disaster.', 'rt @washingtonpost: bill gate climat change, covid whether much influenc', 'talk peopl climat change, almost alway get ask question: help? action individu take move us closer zero-carbon future:', 'thank invit podcast, @karaswisher.', 'rt @theatlantic: weekli planet: lately, bill gate think call “hard stuff” climat change. hard…', 'thank you, @aloksharma_rdg. lot work ahead us reach net-zero emiss 2050 avoid climat disaster. leadership #cop26 critical. thank also @howtoacademy, @penguinl @waterston host london stop virtual book tour!', 'rt @breakthrough: breakthrough energy, don’t think get zero. help make happen. work intersection…', 'great talk @alrok new book solut need fight climat change.', '@cbseveningnew @norahodonnel thank @norahodonnel invit talk climat change. solv won’t easy, believ it.', 'thank anoth great convers @trevornoah!', 'wrote avoid climat disast see not problem climat change; also see opportun solv it. here’ how:', 'rt @usatoday: \"peopl think plan easi wrong. peopl think plan imposs wrong. super hard broad,…', '@cliftonleaf thank invit guest editor. need everi busi leader everi industri play role fight climat change.', 'great time work @fortunemagazin special digit issu climat change. entir busi commun role play—and need start now.', 'avoid climat disast avail now. hope you’ll check book, importantly, hope you’ll help keep planet livabl gener come:', 'rt @wsjmag: digit cover story, talk @billgat new book, \"how avoid climat disaster.\"', 'world’ power invent make hope climat change. breakthrough energi support innov lead world net-zero emissions.', 'avoid climat disaster, need elimin emiss way creat electricity, grow food, make things, move around, heat cool buildings. won’t easy, believ it. book take.', 'enjoy spend time @andersoncoop recent seattle. talk i’m optimist world get zero greenhous ga emiss avoid climat disaster:', 'i’m thrill join @trevornoah, @aloksharma_rdg, @iamrashidajones, @andersoncooper, @doncheadle, @savannahguthrie, @kwelkernbc, @daxshepard monica padman, sal khan, ariel bissett discuss world work avoid climat disaster:', 'rt @melindagates: 2020, global health went local. covid-19 shown us happen one part world matter rest…', 'rt @codeorg: 3% black student learn comput scienc high school beyond. pleas watch share video. inspir studen…', \"rt @rajpanjabi: sworn morning, i'm honor share i'v appoint @potu president’ malaria coord…\", 'come prevent pandemics, scientif tool alon aren’t enough. also need new capabilities, includ global alert system infecti diseas first respond (or like call pandem fire squad):', 'covid-19 cost lives, sicken millions, thrust global economi devast recession. hope horizon:', 'year unlik lifetimes. new annual letter, melinda talk turn hard-won lesson pandem healthier, equal futur all.', 'rt @melindagates: believ women architect better world. stori instil sens urgenc…', 'four way america advanc leadership climat chang year put world path zero emiss 2050:', 'one benefit 65 i’m elig covid-19 vaccine. got first dose week, feel great. thank scientists, trial participants, regulators, frontlin healthcar worker got us point.', 'it’ great see presid biden elev scienc leadership cabinet-level position. congratul @eric_lander.', 'covid-19 right continu domin agenda, unit state also opportun lead world avoid climat disaster. presid take great first step rejoin pari climat accord.', 'president’ commit reengag world give hope recoveri reach everyone, includ commun color u.s. peopl poor countri around world.', 'american across countri work together, peopl get covid-19 vaccin everi day, bring us closer time life look much like normal. then, slow spread viru save live continu distanc wear masks.', 'look forward work presid @joebiden vice presid @kamalaharri tackl toughest challeng like covid-19 climat change. troubl time america, see promis month year ahead.', \"#mlkday long nation day service. celebr first without congressman john lewis, i'm think power call remain hope futur work make country—and world—a better place.\", 'it’ great see india’ leadership scientif innov vaccin manufactur capabl world work end covid-19 pandem @pmoindia', 'rt @lastmilehealth: best emerg system strong primari health system—pow commun frontlin health workers. t…', 'rashida jone shop list? that’ one mani question didn’t make podcast. listen big question tackl here:', '2021 better 2020. here’ why:', 'stand scienc never important. congratul dr. anthoni fauci dr. salim abdool karim receiv honor.', \"i'v known learn @ronconway 40 years. i'm glad see @svangel team @bcheski mentor support compani work creat econom empower opportun peopl across world.\", 'book noth virus pandemics. surprisingli relev times. @exlarson provid brilliant grip account anoth era widespread anxiety: year 1940 1941.', 'monoclon antibodi one promis treatment covid-19, thank larg part r&amp;d canadian scientists. generosity, peopl around world access potenti lifesav treatment.', 'rt @alzdata: we’r look new way advanc #alzheimersresearch. idea tools, models, algorithm expa…', \"like mani people, i’v tri deepen understand system racism recent months. you’r interest learn live caught country' justic system, highli recommend @thenewjimcrow michel alexander.\", 'season final podcast featur two incred peopl use posit artist chang world better.', 'rt @malarianomore: sinc 2000, #malaria commun work togeth prevent 1.5 billion case #malaria &amp; save 7.6 million lives…', 'thank great conversation, carlos.', 'rt @gatesfoundation: must ensur innov reach everyone, not afford pay. newest commit co…', 'bill foeg viktor zdanov phenomen exampl mean har scienc global health. well-deserv honor.', 'five book i’d recommend wrap 2020. hope find someth help you—or book lover life—finish year good note.', 'actual make progress climat change? realli prevent climat disaster? week’ podcast, rashida take perhap biggest question yet pulitz prize-win author @elizkolbert.', 'new quiz @gapmind clever way fight misconcept “upgrad worldview” incred progress world made toward sustain develop goal end poverty, fight inequality, stop climat change:', 'rashida jone talk yuval noah harari covid conspiraci theories, role social media play spread misinformation, one lie choos believ even though know it’ not alway true:', 'believ avoid climat disaster—if deploy clean-energi tool wisely, make big breakthrough touch everi aspect physic economy. creat nation institut energi innov would put us right path.', 'reduc duplication, focu government’ efforts, get innov everi dollar funding, creat new organization: nation institut energi innovation.', 'need revolution world’ physic economy—and take, among things, dramat infus ingenuity, funding, focu feder government.', 'import thing u.s. lead world innov solv climat change.', 'i’m inspir quarraisha abdool karim @profabdoolkarim. two respect hiv/aid research world. help guid covid-19 respons south africa around globe. #worldaidsday', 'rt @melindagates: parent taught leav world better found it. mani peopl across countri believ give bac…', 'i’m big fan author @harari_yuv excit talk human will believ falsehood lie tell us ourselves—both individu society.', 'rt @globalfund: “i continu fighting. continu support patients. never give up.” meet aftab, multi-drug resi…', 'today 25th anniversari first book, road ahead. made lot predict technolog book, fun look back see got right (and got wrong).', 'week, rashida ask big question never felt urgent: inequ inevitable? spoke compton mayor @ajalbrown @oppinsight director raj chetti it’ll take build equal society.']\n"
          ]
        }
      ]
    },
    {
      "cell_type": "markdown",
      "metadata": {
        "id": "HFsW3qnNtyZG"
      },
      "source": [
        "**Bag of words model**"
      ]
    },
    {
      "cell_type": "code",
      "metadata": {
        "colab": {
          "base_uri": "https://localhost:8080/",
          "height": 417
        },
        "id": "IouP6dKFvRvN",
        "outputId": "248251c0-d81c-4f7b-849e-46f6f626c97b"
      },
      "source": [
        "def getSubjectivity(text):\n",
        "  return TextBlob(text).sentiment.subjectivity\n",
        "\n",
        "def getPolarity(text):\n",
        "  return TextBlob(text).sentiment.polarity\n",
        "\n",
        "df['subjectivity'] = df['tweet'].apply(getSubjectivity)\n",
        "df['polarity'] = df['tweet'].apply(getPolarity)\n",
        "def getAnalysis(score):\n",
        "  if score < 0:\n",
        "    return 0\n",
        "  elif score == 0:\n",
        "    return 0\n",
        "  else:\n",
        "    return 1\n",
        "\n",
        "df['liked'] = df['polarity'].apply(getAnalysis)\n",
        "df"
      ],
      "execution_count": null,
      "outputs": [
        {
          "output_type": "execute_result",
          "data": {
            "text/html": [
              "<div>\n",
              "<style scoped>\n",
              "    .dataframe tbody tr th:only-of-type {\n",
              "        vertical-align: middle;\n",
              "    }\n",
              "\n",
              "    .dataframe tbody tr th {\n",
              "        vertical-align: top;\n",
              "    }\n",
              "\n",
              "    .dataframe thead th {\n",
              "        text-align: right;\n",
              "    }\n",
              "</style>\n",
              "<table border=\"1\" class=\"dataframe\">\n",
              "  <thead>\n",
              "    <tr style=\"text-align: right;\">\n",
              "      <th></th>\n",
              "      <th>tweet</th>\n",
              "      <th>retweets</th>\n",
              "      <th>likes</th>\n",
              "      <th>subjectivity</th>\n",
              "      <th>polarity</th>\n",
              "      <th>liked</th>\n",
              "    </tr>\n",
              "  </thead>\n",
              "  <tbody>\n",
              "    <tr>\n",
              "      <th>0</th>\n",
              "      <td>Africa's success against wild polio last year ...</td>\n",
              "      <td>211</td>\n",
              "      <td>2126</td>\n",
              "      <td>0.327778</td>\n",
              "      <td>0.233333</td>\n",
              "      <td>1</td>\n",
              "    </tr>\n",
              "    <tr>\n",
              "      <th>1</th>\n",
              "      <td>None of us would be where we are today without...</td>\n",
              "      <td>211</td>\n",
              "      <td>2228</td>\n",
              "      <td>0.966667</td>\n",
              "      <td>0.522222</td>\n",
              "      <td>1</td>\n",
              "    </tr>\n",
              "    <tr>\n",
              "      <th>2</th>\n",
              "      <td>.@GAP_Foundation’s Bio-Hermes Study is the fir...</td>\n",
              "      <td>155</td>\n",
              "      <td>1189</td>\n",
              "      <td>0.395833</td>\n",
              "      <td>0.062500</td>\n",
              "      <td>1</td>\n",
              "    </tr>\n",
              "    <tr>\n",
              "      <th>3</th>\n",
              "      <td>I recently sat down with the extraordinary Bro...</td>\n",
              "      <td>191</td>\n",
              "      <td>1853</td>\n",
              "      <td>0.634722</td>\n",
              "      <td>0.169444</td>\n",
              "      <td>1</td>\n",
              "    </tr>\n",
              "    <tr>\n",
              "      <th>4</th>\n",
              "      <td>Happy Birthday, Warren! You’ve been a true fri...</td>\n",
              "      <td>722</td>\n",
              "      <td>8185</td>\n",
              "      <td>0.630556</td>\n",
              "      <td>0.634722</td>\n",
              "      <td>1</td>\n",
              "    </tr>\n",
              "    <tr>\n",
              "      <th>...</th>\n",
              "      <td>...</td>\n",
              "      <td>...</td>\n",
              "      <td>...</td>\n",
              "      <td>...</td>\n",
              "      <td>...</td>\n",
              "      <td>...</td>\n",
              "    </tr>\n",
              "    <tr>\n",
              "      <th>195</th>\n",
              "      <td>RT @melindagates: My parents taught me to leav...</td>\n",
              "      <td>299</td>\n",
              "      <td>0</td>\n",
              "      <td>0.500000</td>\n",
              "      <td>0.500000</td>\n",
              "      <td>1</td>\n",
              "    </tr>\n",
              "    <tr>\n",
              "      <th>196</th>\n",
              "      <td>I’m a big fan of author @harari_yuval and was ...</td>\n",
              "      <td>482</td>\n",
              "      <td>4184</td>\n",
              "      <td>0.533333</td>\n",
              "      <td>0.208333</td>\n",
              "      <td>1</td>\n",
              "    </tr>\n",
              "    <tr>\n",
              "      <th>197</th>\n",
              "      <td>RT @GlobalFund: “I will continue fighting. I w...</td>\n",
              "      <td>125</td>\n",
              "      <td>0</td>\n",
              "      <td>0.312500</td>\n",
              "      <td>0.062500</td>\n",
              "      <td>1</td>\n",
              "    </tr>\n",
              "    <tr>\n",
              "      <th>198</th>\n",
              "      <td>Today is the 25th anniversary of my first book...</td>\n",
              "      <td>543</td>\n",
              "      <td>6805</td>\n",
              "      <td>0.393810</td>\n",
              "      <td>0.067143</td>\n",
              "      <td>1</td>\n",
              "    </tr>\n",
              "    <tr>\n",
              "      <th>199</th>\n",
              "      <td>This week, Rashida and I ask a big question th...</td>\n",
              "      <td>184</td>\n",
              "      <td>2581</td>\n",
              "      <td>0.470000</td>\n",
              "      <td>0.200000</td>\n",
              "      <td>1</td>\n",
              "    </tr>\n",
              "  </tbody>\n",
              "</table>\n",
              "<p>200 rows × 6 columns</p>\n",
              "</div>"
            ],
            "text/plain": [
              "                                                 tweet  ...  liked\n",
              "0    Africa's success against wild polio last year ...  ...      1\n",
              "1    None of us would be where we are today without...  ...      1\n",
              "2    .@GAP_Foundation’s Bio-Hermes Study is the fir...  ...      1\n",
              "3    I recently sat down with the extraordinary Bro...  ...      1\n",
              "4    Happy Birthday, Warren! You’ve been a true fri...  ...      1\n",
              "..                                                 ...  ...    ...\n",
              "195  RT @melindagates: My parents taught me to leav...  ...      1\n",
              "196  I’m a big fan of author @harari_yuval and was ...  ...      1\n",
              "197  RT @GlobalFund: “I will continue fighting. I w...  ...      1\n",
              "198  Today is the 25th anniversary of my first book...  ...      1\n",
              "199  This week, Rashida and I ask a big question th...  ...      1\n",
              "\n",
              "[200 rows x 6 columns]"
            ]
          },
          "metadata": {},
          "execution_count": 27
        }
      ]
    },
    {
      "cell_type": "code",
      "metadata": {
        "id": "94I_jYLSwAl5"
      },
      "source": [
        "from sklearn.feature_extraction.text import CountVectorizer\n",
        "cv = CountVectorizer(max_features= 900)\n",
        "X = cv.fit_transform(corpus).toarray()\n",
        "y = df.iloc[:, -1].values"
      ],
      "execution_count": null,
      "outputs": []
    },
    {
      "cell_type": "markdown",
      "metadata": {
        "id": "ephpdyfUwH94"
      },
      "source": [
        "**training model**"
      ]
    },
    {
      "cell_type": "code",
      "metadata": {
        "id": "zkHf6gJqwUmc"
      },
      "source": [
        "from sklearn.model_selection import train_test_split\n",
        "X_train, X_test, y_train, y_test = train_test_split(X, y, test_size = 0.2, random_state = 0) "
      ],
      "execution_count": null,
      "outputs": []
    },
    {
      "cell_type": "code",
      "metadata": {
        "colab": {
          "base_uri": "https://localhost:8080/"
        },
        "id": "hM06qZsdw7-7",
        "outputId": "292f16b4-7c30-4007-a727-37cfcdc6bb33"
      },
      "source": [
        "from sklearn.naive_bayes import GaussianNB\n",
        "classifier = GaussianNB()\n",
        "classifier.fit(X_train, y_train)"
      ],
      "execution_count": null,
      "outputs": [
        {
          "output_type": "execute_result",
          "data": {
            "text/plain": [
              "GaussianNB(priors=None, var_smoothing=1e-09)"
            ]
          },
          "metadata": {},
          "execution_count": 30
        }
      ]
    },
    {
      "cell_type": "code",
      "metadata": {
        "id": "UMuZl1IGxBon"
      },
      "source": [
        "y_pred = classifier.predict(X_test)\n",
        "print(np.concatenate((y_pred.reshape(len(y_pred), 1), y_test.reshape(len(y_test), 1)), 1))"
      ],
      "execution_count": null,
      "outputs": []
    },
    {
      "cell_type": "code",
      "metadata": {
        "colab": {
          "base_uri": "https://localhost:8080/"
        },
        "id": "cHKrx69hxFEG",
        "outputId": "48a4f4c1-39a4-494f-e9f6-b00d409b85a8"
      },
      "source": [
        "from sklearn.metrics import confusion_matrix, accuracy_score\n",
        "cm = confusion_matrix(y_test, y_pred)\n",
        "print(cm)\n",
        "result = accuracy_score(y_test, y_pred)\n",
        "print(\"accuracy: \", result * 100, \"%\")"
      ],
      "execution_count": null,
      "outputs": [
        {
          "output_type": "stream",
          "name": "stdout",
          "text": [
            "[[ 2  8]\n",
            " [ 1 29]]\n",
            "accuracy:  77.5 %\n"
          ]
        }
      ]
    }
  ]
}
